{
 "cells": [
  {
   "cell_type": "code",
   "execution_count": 23,
   "metadata": {
    "_cell_guid": "b1076dfc-b9ad-4769-8c92-a6c4dae69d19",
    "_uuid": "8f2839f25d086af736a60e9eeb907d3b93b6e0e5"
   },
   "outputs": [],
   "source": [
    "import tensorflow as tf\n",
    "# tpu = tf.distribute.cluster_resolver.TPUClusterResolver()\n",
    "# tf.config.experimental_connect_to_cluster(tpu)\n",
    "# tf.tpu.experimental.initialize_tpu_system(tpu)\n",
    "# tpu_strategy = tf.distribute.experimental.TPUStrategy(tpu)\n",
    "\n",
    "import cv2\n",
    "%matplotlib inline\n",
    "from matplotlib import pyplot as plt\n",
    "import numpy as np\n",
    "import os\n",
    "import datetime\n",
    "\n",
    "import matplotlib.image as mpimg\n",
    "from keras.models import Sequential\n",
    "from keras.layers.convolutional import Conv2D\n",
    "from keras.layers.convolutional import MaxPooling2D\n",
    "from keras.layers.core import Activation, Flatten, Dropout, Dense\n",
    "from keras.layers.normalization import BatchNormalization\n",
    "from sklearn.model_selection import train_test_split\n",
    "from keras.preprocessing.image import ImageDataGenerator\n",
    "from sklearn.preprocessing import LabelBinarizer"
   ]
  },
  {
   "cell_type": "code",
   "execution_count": 19,
   "metadata": {
    "_cell_guid": "79c7e3d0-c299-4dcb-8224-4455121ee9b0",
    "_uuid": "d629ff2d2480ee46fbb7e2d37f6b5fab8052498a"
   },
   "outputs": [],
   "source": [
    "EPOCHS = 10\n",
    "INIT_LR = 1e-3\n",
    "#to avoid crashing due to less ram\n",
    "BS = 10\n",
    "default_image_size = tuple((128,128))\n",
    "width=128\n",
    "height=128\n",
    "depth=3\n",
    "inputShape=(128,128,3)\n",
    "\n",
    "\n",
    "labels=[\n",
    "\"Tomato___Tomato_mosaic_virus\",\n",
    "\"Tomato___Early_blight\",\n",
    "\"Tomato___Septoria_leaf_spot\",\n",
    "\"Tomato___Bacterial_spot\",\n",
    "\"Tomato___Target_Spot\",\n",
    "\"Tomato___Spider_mites\",\n",
    "\"Tomato___Tomato_Yellow_Leaf_Curl_Virus\",\n",
    "\"Tomato___Late_blight\",\n",
    "\"Tomato___healthy\",\n",
    "\"Tomato___Leaf_Mold\"\n",
    "]\n"
   ]
  },
  {
   "cell_type": "code",
   "execution_count": 6,
   "metadata": {},
   "outputs": [],
   "source": [
    "def img_to_np(DIR,flatten=True):\n",
    "  #canny edge detection by resizing\n",
    "  cv_img=mpimg.imread(DIR,0)\n",
    "  cv_img=cv2.resize(cv_img,default_image_size)\n",
    "  img = np.uint8(cv_img)\n",
    "  #img = np.uint8((0.2126 * img[:,:,0]) + np.uint8(0.7152 * img[:,:,1]) + np.uint8(0.0722 * img[:,:,2]))\n",
    "  #flatten it\n",
    "  if(flatten):\n",
    "    img=img.flatten()\n",
    "  return img"
   ]
  },
  {
   "cell_type": "code",
   "execution_count": 10,
   "metadata": {},
   "outputs": [],
   "source": [
    "TRAIN_DIR=\"../TomatoLeafDisease/tomato/train/\"\n",
    "index=0\n",
    "data={}\n",
    "for FOLDER in os.listdir(TRAIN_DIR):\n",
    "    for image_dir in os.listdir(TRAIN_DIR+FOLDER):\n",
    "      if index not in data:\n",
    "        data[index]=[]\n",
    "      try:  \n",
    "        data[index].append(img_to_np(TRAIN_DIR+FOLDER+\"/\"+image_dir))\n",
    "      except:\n",
    "        print(\"Error to load the image \"+TRAIN_DIR+FOLDER+\"/\"+image_dir)\n",
    "    index=index+1  "
   ]
  },
  {
   "cell_type": "code",
   "execution_count": null,
   "metadata": {},
   "outputs": [],
   "source": [
    "\n",
    "CLASS_LIMIT=500\n",
    "colors=[\"r\",\"b\",\"m\",\"y\",\"k\",\"c\",\"#eeefff\",\"#808000\",\"#4B0082\",\"#CD853F\"]\n",
    "for index_class in range(len(data)):\n",
    "  index=0\n",
    "  for arr in data[index_class]:\n",
    "    plt.hist(arr,color=colors[index_class],alpha=0.5)\n",
    "    if(index>CLASS_LIMIT):\n",
    "      plt.title(labels[index_class])\n",
    "      plt.show()\n",
    "      break\n",
    "    index=index+1    "
   ]
  },
  {
   "cell_type": "code",
   "execution_count": 3,
   "metadata": {},
   "outputs": [
    {
     "data": {
      "text/plain": [
       "array([[1, 0, 0, 0, 0, 0, 0, 0, 0, 0],\n",
       "       [0, 1, 0, 0, 0, 0, 0, 0, 0, 0],\n",
       "       [0, 0, 1, 0, 0, 0, 0, 0, 0, 0],\n",
       "       [0, 0, 0, 1, 0, 0, 0, 0, 0, 0],\n",
       "       [0, 0, 0, 0, 1, 0, 0, 0, 0, 0],\n",
       "       [0, 0, 0, 0, 0, 1, 0, 0, 0, 0],\n",
       "       [0, 0, 0, 0, 0, 0, 1, 0, 0, 0],\n",
       "       [0, 0, 0, 0, 0, 0, 0, 1, 0, 0],\n",
       "       [0, 0, 0, 0, 0, 0, 0, 0, 1, 0],\n",
       "       [0, 0, 0, 0, 0, 0, 0, 0, 0, 1]])"
      ]
     },
     "execution_count": 3,
     "metadata": {},
     "output_type": "execute_result"
    }
   ],
   "source": [
    "labelencoder = LabelBinarizer()\n",
    "label=labelencoder.fit_transform([0,1,2,3,4,5,6,7,8,9])\n",
    "label"
   ]
  },
  {
   "cell_type": "code",
   "execution_count": 26,
   "metadata": {},
   "outputs": [
    {
     "name": "stdout",
     "output_type": "stream",
     "text": [
      "D:/POST_S1/BANGKIT/TomatoLeaf/tomato/train/Tomato___Bacterial_spot\n",
      "D:/POST_S1/BANGKIT/TomatoLeaf/tomato/train/Tomato___Early_blight\n",
      "D:/POST_S1/BANGKIT/TomatoLeaf/tomato/train/Tomato___healthy\n",
      "D:/POST_S1/BANGKIT/TomatoLeaf/tomato/train/Tomato___Late_blight\n",
      "D:/POST_S1/BANGKIT/TomatoLeaf/tomato/train/Tomato___Leaf_Mold\n",
      "D:/POST_S1/BANGKIT/TomatoLeaf/tomato/train/Tomato___Septoria_leaf_spot\n",
      "D:/POST_S1/BANGKIT/TomatoLeaf/tomato/train/Tomato___Spider_mites Two-spotted_spider_mite\n",
      "D:/POST_S1/BANGKIT/TomatoLeaf/tomato/train/Tomato___Target_Spot\n",
      "D:/POST_S1/BANGKIT/TomatoLeaf/tomato/train/Tomato___Tomato_mosaic_virus\n",
      "D:/POST_S1/BANGKIT/TomatoLeaf/tomato/train/Tomato___Tomato_Yellow_Leaf_Curl_Virus\n"
     ]
    }
   ],
   "source": [
    "TRAIN_DIR=\"D:/POST_S1/BANGKIT/TomatoLeaf/tomato/train/\"\n",
    "index=0\n",
    "data=[]\n",
    "for FOLDER in os.listdir(TRAIN_DIR):\n",
    "    print(TRAIN_DIR+FOLDER)\n",
    "    for image_dir in os.listdir(TRAIN_DIR+FOLDER):\n",
    "      data.append({\"x\":img_to_np(TRAIN_DIR+FOLDER+\"/\"+image_dir,flatten=False),\"y\":label[index]})\n",
    "    index=index+1\n",
    "x,y=[],[]\n",
    "for obj in data:\n",
    "  x.append(obj[\"x\"])\n",
    "  y.append(obj[\"y\"])\n",
    "x_train = np.array(x,dtype=np.float16)\n",
    "y_train = np.array(y,dtype=np.float16)       "
   ]
  },
  {
   "cell_type": "code",
   "execution_count": 27,
   "metadata": {},
   "outputs": [
    {
     "name": "stdout",
     "output_type": "stream",
     "text": [
      "D:/POST_S1/BANGKIT/TomatoLeaf/tomato/val/Tomato___Bacterial_spot\n",
      "D:/POST_S1/BANGKIT/TomatoLeaf/tomato/val/Tomato___Early_blight\n",
      "D:/POST_S1/BANGKIT/TomatoLeaf/tomato/val/Tomato___healthy\n",
      "D:/POST_S1/BANGKIT/TomatoLeaf/tomato/val/Tomato___Late_blight\n",
      "D:/POST_S1/BANGKIT/TomatoLeaf/tomato/val/Tomato___Leaf_Mold\n",
      "D:/POST_S1/BANGKIT/TomatoLeaf/tomato/val/Tomato___Septoria_leaf_spot\n",
      "D:/POST_S1/BANGKIT/TomatoLeaf/tomato/val/Tomato___Spider_mites Two-spotted_spider_mite\n",
      "D:/POST_S1/BANGKIT/TomatoLeaf/tomato/val/Tomato___Target_Spot\n",
      "D:/POST_S1/BANGKIT/TomatoLeaf/tomato/val/Tomato___Tomato_mosaic_virus\n",
      "D:/POST_S1/BANGKIT/TomatoLeaf/tomato/val/Tomato___Tomato_Yellow_Leaf_Curl_Virus\n"
     ]
    }
   ],
   "source": [
    "TEST_DIR=\"D:/POST_S1/BANGKIT/TomatoLeaf/tomato/val/\"\n",
    "index=0\n",
    "data=[]\n",
    "for FOLDER in os.listdir(TEST_DIR):\n",
    "    print(TEST_DIR+FOLDER)\n",
    "    for image_dir in os.listdir(TEST_DIR+FOLDER):\n",
    "      data.append({\"x\":img_to_np(TEST_DIR+FOLDER+\"/\"+image_dir,flatten=False),\"y\":label[index]})\n",
    "    index=index+1\n",
    "x,y=[],[]\n",
    "for obj in data:\n",
    "  x.append(obj[\"x\"])\n",
    "  y.append(obj[\"y\"])\n",
    "x_test = np.array(x,dtype=np.float16)\n",
    "y_test = np.array(y,dtype=np.float16)  "
   ]
  },
  {
   "cell_type": "code",
   "execution_count": 28,
   "metadata": {},
   "outputs": [
    {
     "name": "stdout",
     "output_type": "stream",
     "text": [
      "Model: \"sequential_3\"\n",
      "_________________________________________________________________\n",
      "Layer (type)                 Output Shape              Param #   \n",
      "=================================================================\n",
      "conv2d_11 (Conv2D)           (None, 128, 128, 128)     3584      \n",
      "_________________________________________________________________\n",
      "activation_15 (Activation)   (None, 128, 128, 128)     0         \n",
      "_________________________________________________________________\n",
      "batch_normalization_13 (Batc (None, 128, 128, 128)     512       \n",
      "_________________________________________________________________\n",
      "max_pooling2d_7 (MaxPooling2 (None, 42, 42, 128)       0         \n",
      "_________________________________________________________________\n",
      "dropout_9 (Dropout)          (None, 42, 42, 128)       0         \n",
      "_________________________________________________________________\n",
      "conv2d_12 (Conv2D)           (None, 42, 42, 128)       147584    \n",
      "_________________________________________________________________\n",
      "activation_16 (Activation)   (None, 42, 42, 128)       0         \n",
      "_________________________________________________________________\n",
      "batch_normalization_14 (Batc (None, 42, 42, 128)       512       \n",
      "_________________________________________________________________\n",
      "conv2d_13 (Conv2D)           (None, 42, 42, 128)       147584    \n",
      "_________________________________________________________________\n",
      "activation_17 (Activation)   (None, 42, 42, 128)       0         \n",
      "_________________________________________________________________\n",
      "batch_normalization_15 (Batc (None, 42, 42, 128)       512       \n",
      "_________________________________________________________________\n",
      "max_pooling2d_8 (MaxPooling2 (None, 21, 21, 128)       0         \n",
      "_________________________________________________________________\n",
      "dropout_10 (Dropout)         (None, 21, 21, 128)       0         \n",
      "_________________________________________________________________\n",
      "conv2d_14 (Conv2D)           (None, 21, 21, 128)       147584    \n",
      "_________________________________________________________________\n",
      "activation_18 (Activation)   (None, 21, 21, 128)       0         \n",
      "_________________________________________________________________\n",
      "batch_normalization_16 (Batc (None, 21, 21, 128)       512       \n",
      "_________________________________________________________________\n",
      "conv2d_15 (Conv2D)           (None, 21, 21, 128)       147584    \n",
      "_________________________________________________________________\n",
      "activation_19 (Activation)   (None, 21, 21, 128)       0         \n",
      "_________________________________________________________________\n",
      "batch_normalization_17 (Batc (None, 21, 21, 128)       512       \n",
      "_________________________________________________________________\n",
      "max_pooling2d_9 (MaxPooling2 (None, 10, 10, 128)       0         \n",
      "_________________________________________________________________\n",
      "dropout_11 (Dropout)         (None, 10, 10, 128)       0         \n",
      "_________________________________________________________________\n",
      "flatten_3 (Flatten)          (None, 12800)             0         \n",
      "_________________________________________________________________\n",
      "dense_5 (Dense)              (None, 1024)              13108224  \n",
      "_________________________________________________________________\n",
      "activation_20 (Activation)   (None, 1024)              0         \n",
      "_________________________________________________________________\n",
      "batch_normalization_18 (Batc (None, 1024)              4096      \n",
      "_________________________________________________________________\n",
      "dropout_12 (Dropout)         (None, 1024)              0         \n",
      "_________________________________________________________________\n",
      "dense_6 (Dense)              (None, 10)                10250     \n",
      "_________________________________________________________________\n",
      "activation_21 (Activation)   (None, 10)                0         \n",
      "=================================================================\n",
      "Total params: 13,719,050\n",
      "Trainable params: 13,715,722\n",
      "Non-trainable params: 3,328\n",
      "_________________________________________________________________\n"
     ]
    }
   ],
   "source": [
    "# with tpu_strategy.scope():\n",
    "model = Sequential()\n",
    "chanDim=-1\n",
    "model.add(Conv2D(128, (3, 3), padding=\"same\",input_shape=inputShape))\n",
    "model.add(Activation(\"relu\"))\n",
    "model.add(BatchNormalization(axis=chanDim))\n",
    "model.add(MaxPooling2D(pool_size=(3, 3)))\n",
    "model.add(Dropout(0.25))\n",
    "model.add(Conv2D(128, (3, 3), padding=\"same\"))\n",
    "model.add(Activation(\"relu\"))\n",
    "model.add(BatchNormalization(axis=chanDim))\n",
    "model.add(Conv2D(128, (3, 3), padding=\"same\"))\n",
    "model.add(Activation(\"relu\"))\n",
    "model.add(BatchNormalization(axis=chanDim))\n",
    "model.add(MaxPooling2D(pool_size=(2, 2)))\n",
    "model.add(Dropout(0.25))\n",
    "model.add(Conv2D(128, (3, 3), padding=\"same\"))\n",
    "model.add(Activation(\"relu\"))\n",
    "model.add(BatchNormalization(axis=chanDim))\n",
    "model.add(Conv2D(128, (3, 3), padding=\"same\"))\n",
    "model.add(Activation(\"relu\"))\n",
    "model.add(BatchNormalization(axis=chanDim))\n",
    "model.add(MaxPooling2D(pool_size=(2, 2)))\n",
    "model.add(Dropout(0.25))\n",
    "model.add(Flatten())\n",
    "model.add(Dense(1024))\n",
    "model.add(Activation(\"relu\"))\n",
    "model.add(BatchNormalization())\n",
    "model.add(Dropout(0.5))\n",
    "model.add(Dense(10))\n",
    "model.add(Activation(\"softmax\"))\n",
    "model.summary()"
   ]
  },
  {
   "cell_type": "code",
   "execution_count": null,
   "metadata": {},
   "outputs": [
    {
     "name": "stdout",
     "output_type": "stream",
     "text": [
      "Epoch 1/10\n",
      "1000/1000 [==============================] - 2164s 2s/step - loss: 0.2559 - accuracy: 0.9125 - val_loss: 0.6408 - val_accuracy: 0.8566\n",
      "Epoch 2/10\n",
      "1000/1000 [==============================] - 3155s 3s/step - loss: 0.1900 - accuracy: 0.9311 - val_loss: 0.2041 - val_accuracy: 0.9274\n",
      "Epoch 3/10\n",
      " 401/1000 [===========>..................] - ETA: 17:41 - loss: 0.1692 - accuracy: 0.9362"
     ]
    }
   ],
   "source": [
    "# with tpu_strategy.scope():\n",
    "model.compile(loss=\"binary_crossentropy\", optimizer=\"adam\",metrics=[\"accuracy\"])\n",
    "aug = ImageDataGenerator(fill_mode=\"nearest\")\n",
    "model_history = model.fit_generator(\n",
    "    aug.flow(x_train, y_train, batch_size=BS),\n",
    "    validation_data=(x_test, y_test),\n",
    "    steps_per_epoch=len(x_train) // BS,\n",
    "    epochs=EPOCHS, verbose=1\n",
    ")"
   ]
  },
  {
   "cell_type": "code",
   "execution_count": 25,
   "metadata": {},
   "outputs": [
    {
     "data": {
      "image/png": "[encoded data removed]",
      "text/plain": [
       "<Figure size 1296x216 with 2 Axes>"
      ]
     },
     "metadata": {
      "needs_background": "light"
     },
     "output_type": "display_data"
    }
   ],
   "source": [
    "fig, ax = plt.subplots(1,2,figsize=(18,3))\n",
    "ax[0].plot(model_history.history[\"accuracy\"])\n",
    "ax[0].plot(model_history.history[\"val_accuracy\"])\n",
    "ax[0].set_title(\"Train and Validation Accuracy\")\n",
    "ax[0].set_xlabel(\"Epochs\")\n",
    "ax[0].set_ylabel(\"Accuracy\")\n",
    "ax[0].legend(['Train', 'Validation'], loc='upper right')\n",
    "\n",
    "ax[1].plot(model_history.history[\"loss\"])\n",
    "ax[1].plot(model_history.history[\"val_loss\"])\n",
    "ax[1].set_title(\"Train and Validation Loss\")\n",
    "ax[1].set_xlabel(\"Epochs\")\n",
    "ax[1].set_ylabel(\"Loss\")\n",
    "ax[1].legend([\"Train\", \"Validation\"], loc=\"upper right\")\n",
    "# plt.savefig(datetime.now().strftime(\"%m%d%Y_%H%M%S\") + '.png')\n",
    "plt.savefig(datetime.datetime.now().strftime(\"%m%d%Y_%H%M%S\") + '.png')\n",
    "plt.show()"
   ]
  },
  {
   "cell_type": "code",
   "execution_count": null,
   "metadata": {},
   "outputs": [],
   "source": [
    "model.save(\"/kaggle/working/model.h5\")"
   ]
  },
  {
   "cell_type": "code",
   "execution_count": null,
   "metadata": {},
   "outputs": [],
   "source": [
    "scores = model.evaluate(x_test, y_test)\n",
    "print(\"Accuracy is :\"+str(scores[1]*100)+\" %\")"
   ]
  },
  {
   "cell_type": "code",
   "execution_count": null,
   "metadata": {},
   "outputs": [],
   "source": [
    "arr=img_to_np(\"/kaggle/input/tomatoleaf/tomato/val/Tomato___Tomato_mosaic_virus/0c676b36-7985-42e8-b550-83e2b1c55535___PSU_CG 2177.JPG\",flatten=False)\n",
    "arr=arr.reshape(1,128,128,3)\n",
    "labels[labelencoder.inverse_transform(model.predict(arr))[0]]"
   ]
  },
  {
   "cell_type": "code",
   "execution_count": null,
   "metadata": {},
   "outputs": [],
   "source": [
    "arr=img_to_np(\"/kaggle/input/tomatoleaf/tomato/val/Tomato___healthy/0cb10f98-491d-4e1f-b8ea-4fb0f1b3675f___GH_HL Leaf 333.JPG\",flatten=False)\n",
    "arr=arr.reshape(1,128,128,3)\n",
    "labels[labelencoder.inverse_transform(model.predict(arr))[0]]"
   ]
  }
 ],
 "metadata": {
  "kernelspec": {
   "display_name": "Python 3",
   "language": "python",
   "name": "python3"
  },
  "language_info": {
   "codemirror_mode": {
    "name": "ipython",
    "version": 3
   },
   "file_extension": ".py",
   "mimetype": "text/x-python",
   "name": "python",
   "nbconvert_exporter": "python",
   "pygments_lexer": "ipython3",
   "version": "3.7.7"
  }
 },
 "nbformat": 4,
 "nbformat_minor": 4
}
